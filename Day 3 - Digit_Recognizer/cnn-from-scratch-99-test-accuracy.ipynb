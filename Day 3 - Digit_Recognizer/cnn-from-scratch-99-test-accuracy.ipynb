{
 "cells": [
  {
   "cell_type": "code",
   "execution_count": 1,
   "metadata": {
    "_cell_guid": "b1076dfc-b9ad-4769-8c92-a6c4dae69d19",
    "_uuid": "8f2839f25d086af736a60e9eeb907d3b93b6e0e5",
    "execution": {
     "iopub.execute_input": "2020-10-14T20:39:46.478694Z",
     "iopub.status.busy": "2020-10-14T20:39:46.477790Z",
     "iopub.status.idle": "2020-10-14T20:39:51.433540Z",
     "shell.execute_reply": "2020-10-14T20:39:51.434298Z"
    },
    "papermill": {
     "duration": 4.977869,
     "end_time": "2020-10-14T20:39:51.434551",
     "exception": false,
     "start_time": "2020-10-14T20:39:46.456682",
     "status": "completed"
    },
    "tags": []
   },
   "outputs": [],
   "source": [
    "import numpy as np\n",
    "import pandas as pd\n",
    "import matplotlib.pyplot as plt\n",
    "from keras.utils import to_categorical"
   ]
  },
  {
   "cell_type": "markdown",
   "metadata": {},
   "source": [
    "##### Link to Dataset : https://www.kaggle.com/c/digit-recognizer/data"
   ]
  },
  {
   "cell_type": "code",
   "execution_count": 2,
   "metadata": {
    "_cell_guid": "79c7e3d0-c299-4dcb-8224-4455121ee9b0",
    "_uuid": "d629ff2d2480ee46fbb7e2d37f6b5fab8052498a",
    "execution": {
     "iopub.execute_input": "2020-10-14T20:39:51.500029Z",
     "iopub.status.busy": "2020-10-14T20:39:51.499131Z",
     "iopub.status.idle": "2020-10-14T20:39:55.506536Z",
     "shell.execute_reply": "2020-10-14T20:39:55.504897Z"
    },
    "papermill": {
     "duration": 4.049151,
     "end_time": "2020-10-14T20:39:55.506664",
     "exception": false,
     "start_time": "2020-10-14T20:39:51.457513",
     "status": "completed"
    },
    "tags": []
   },
   "outputs": [],
   "source": [
    "train=pd.read_csv('../input/digit-recognizer/train.csv')"
   ]
  },
  {
   "cell_type": "code",
   "execution_count": 3,
   "metadata": {
    "execution": {
     "iopub.execute_input": "2020-10-14T20:39:55.545258Z",
     "iopub.status.busy": "2020-10-14T20:39:55.544174Z",
     "iopub.status.idle": "2020-10-14T20:39:55.549124Z",
     "shell.execute_reply": "2020-10-14T20:39:55.548486Z"
    },
    "papermill": {
     "duration": 0.027789,
     "end_time": "2020-10-14T20:39:55.549259",
     "exception": false,
     "start_time": "2020-10-14T20:39:55.521470",
     "status": "completed"
    },
    "tags": []
   },
   "outputs": [],
   "source": [
    "y=train['label']"
   ]
  },
  {
   "cell_type": "code",
   "execution_count": 4,
   "metadata": {
    "execution": {
     "iopub.execute_input": "2020-10-14T20:39:55.668860Z",
     "iopub.status.busy": "2020-10-14T20:39:55.667471Z",
     "iopub.status.idle": "2020-10-14T20:39:55.775862Z",
     "shell.execute_reply": "2020-10-14T20:39:55.775185Z"
    },
    "papermill": {
     "duration": 0.210258,
     "end_time": "2020-10-14T20:39:55.775982",
     "exception": false,
     "start_time": "2020-10-14T20:39:55.565724",
     "status": "completed"
    },
    "tags": []
   },
   "outputs": [],
   "source": [
    "X=train.drop('label',axis=1).values/255.0\n",
    "X=X.reshape(-1,28,28,1)\n",
    "# y=to_categorical(y)"
   ]
  },
  {
   "cell_type": "code",
   "execution_count": 5,
   "metadata": {
    "execution": {
     "iopub.execute_input": "2020-10-14T20:39:55.812602Z",
     "iopub.status.busy": "2020-10-14T20:39:55.811749Z",
     "iopub.status.idle": "2020-10-14T20:39:56.046693Z",
     "shell.execute_reply": "2020-10-14T20:39:56.045960Z"
    },
    "papermill": {
     "duration": 0.255644,
     "end_time": "2020-10-14T20:39:56.046832",
     "exception": false,
     "start_time": "2020-10-14T20:39:55.791188",
     "status": "completed"
    },
    "tags": []
   },
   "outputs": [
    {
     "data": {
      "text/plain": [
       "Text(0.5, 1.0, '0')"
      ]
     },
     "execution_count": 5,
     "metadata": {},
     "output_type": "execute_result"
    },
    {
     "data": {
      "image/png": "[encoded data removed]",
      "text/plain": [
       "<Figure size 432x288 with 1 Axes>"
      ]
     },
     "metadata": {
      "needs_background": "light"
     },
     "output_type": "display_data"
    }
   ],
   "source": [
    "i=96\n",
    "plt.imshow(X[i].reshape(28,28))\n",
    "plt.title(y[i].argmax())"
   ]
  },
  {
   "cell_type": "code",
   "execution_count": 6,
   "metadata": {
    "execution": {
     "iopub.execute_input": "2020-10-14T20:39:56.091944Z",
     "iopub.status.busy": "2020-10-14T20:39:56.091049Z",
     "iopub.status.idle": "2020-10-14T20:39:57.261748Z",
     "shell.execute_reply": "2020-10-14T20:39:57.260876Z"
    },
    "papermill": {
     "duration": 1.195552,
     "end_time": "2020-10-14T20:39:57.261872",
     "exception": false,
     "start_time": "2020-10-14T20:39:56.066320",
     "status": "completed"
    },
    "tags": []
   },
   "outputs": [],
   "source": [
    "from sklearn.model_selection import train_test_split\n",
    "X_train, X_test, y_train, y_test = train_test_split(X, y, test_size=0.2, random_state=42)"
   ]
  },
  {
   "cell_type": "code",
   "execution_count": 7,
   "metadata": {
    "execution": {
     "iopub.execute_input": "2020-10-14T20:39:57.303236Z",
     "iopub.status.busy": "2020-10-14T20:39:57.301522Z",
     "iopub.status.idle": "2020-10-14T20:39:57.304003Z",
     "shell.execute_reply": "2020-10-14T20:39:57.304571Z"
    },
    "papermill": {
     "duration": 0.025986,
     "end_time": "2020-10-14T20:39:57.304716",
     "exception": false,
     "start_time": "2020-10-14T20:39:57.278730",
     "status": "completed"
    },
    "tags": []
   },
   "outputs": [],
   "source": [
    "from keras.models import *\n",
    "from keras.layers import *\n",
    "from keras.callbacks import ModelCheckpoint,EarlyStopping"
   ]
  },
  {
   "cell_type": "code",
   "execution_count": 8,
   "metadata": {
    "execution": {
     "iopub.execute_input": "2020-10-14T20:39:57.351083Z",
     "iopub.status.busy": "2020-10-14T20:39:57.350194Z",
     "iopub.status.idle": "2020-10-14T20:40:00.137234Z",
     "shell.execute_reply": "2020-10-14T20:40:00.136419Z"
    },
    "papermill": {
     "duration": 2.815972,
     "end_time": "2020-10-14T20:40:00.137409",
     "exception": false,
     "start_time": "2020-10-14T20:39:57.321437",
     "status": "completed"
    },
    "tags": []
   },
   "outputs": [],
   "source": [
    "model=Sequential()\n",
    "\n",
    "model.add(Conv2D(128, (3, 3), input_shape = (28,28,1)))\n",
    "model.add(BatchNormalization())\n",
    "model.add(Activation(\"relu\"))\n",
    "model.add(MaxPooling2D(pool_size=(2, 2)))\n",
    "\n",
    "\n",
    "model.add(Conv2D(512, (3, 3)))\n",
    "model.add(BatchNormalization())\n",
    "model.add(Activation('relu'))\n",
    "model.add(MaxPooling2D(pool_size=(2, 2)))\n",
    "\n",
    "\n",
    "\n",
    "model.add(Flatten())\n",
    "\n",
    "\n",
    "model.add(Dense(512))\n",
    "model.add(BatchNormalization())\n",
    "model.add(Activation('relu'))\n",
    "model.add(Dropout(0.5))\n",
    "\n",
    "\n",
    "model.add(Dense(10, activation='softmax'))\n",
    "\n",
    "model.compile(optimizer = 'adam',loss = 'sparse_categorical_crossentropy',metrics = ['accuracy'])"
   ]
  },
  {
   "cell_type": "code",
   "execution_count": 9,
   "metadata": {
    "execution": {
     "iopub.execute_input": "2020-10-14T20:40:00.185121Z",
     "iopub.status.busy": "2020-10-14T20:40:00.177446Z",
     "iopub.status.idle": "2020-10-14T20:40:00.193084Z",
     "shell.execute_reply": "2020-10-14T20:40:00.192474Z"
    },
    "papermill": {
     "duration": 0.038485,
     "end_time": "2020-10-14T20:40:00.193204",
     "exception": false,
     "start_time": "2020-10-14T20:40:00.154719",
     "status": "completed"
    },
    "tags": []
   },
   "outputs": [
    {
     "name": "stdout",
     "output_type": "stream",
     "text": [
      "Model: \"sequential\"\n",
      "_________________________________________________________________\n",
      "Layer (type)                 Output Shape              Param #   \n",
      "=================================================================\n",
      "conv2d (Conv2D)              (None, 26, 26, 128)       1280      \n",
      "_________________________________________________________________\n",
      "batch_normalization (BatchNo (None, 26, 26, 128)       512       \n",
      "_________________________________________________________________\n",
      "activation (Activation)      (None, 26, 26, 128)       0         \n",
      "_________________________________________________________________\n",
      "max_pooling2d (MaxPooling2D) (None, 13, 13, 128)       0         \n",
      "_________________________________________________________________\n",
      "conv2d_1 (Conv2D)            (None, 11, 11, 512)       590336    \n",
      "_________________________________________________________________\n",
      "batch_normalization_1 (Batch (None, 11, 11, 512)       2048      \n",
      "_________________________________________________________________\n",
      "activation_1 (Activation)    (None, 11, 11, 512)       0         \n",
      "_________________________________________________________________\n",
      "max_pooling2d_1 (MaxPooling2 (None, 5, 5, 512)         0         \n",
      "_________________________________________________________________\n",
      "flatten (Flatten)            (None, 12800)             0         \n",
      "_________________________________________________________________\n",
      "dense (Dense)                (None, 512)               6554112   \n",
      "_________________________________________________________________\n",
      "batch_normalization_2 (Batch (None, 512)               2048      \n",
      "_________________________________________________________________\n",
      "activation_2 (Activation)    (None, 512)               0         \n",
      "_________________________________________________________________\n",
      "dropout (Dropout)            (None, 512)               0         \n",
      "_________________________________________________________________\n",
      "dense_1 (Dense)              (None, 10)                5130      \n",
      "=================================================================\n",
      "Total params: 7,155,466\n",
      "Trainable params: 7,153,162\n",
      "Non-trainable params: 2,304\n",
      "_________________________________________________________________\n"
     ]
    }
   ],
   "source": [
    "model.summary()"
   ]
  },
  {
   "cell_type": "code",
   "execution_count": 10,
   "metadata": {
    "execution": {
     "iopub.execute_input": "2020-10-14T20:40:00.234273Z",
     "iopub.status.busy": "2020-10-14T20:40:00.233554Z",
     "iopub.status.idle": "2020-10-14T20:40:00.238720Z",
     "shell.execute_reply": "2020-10-14T20:40:00.238087Z"
    },
    "papermill": {
     "duration": 0.028317,
     "end_time": "2020-10-14T20:40:00.238852",
     "exception": false,
     "start_time": "2020-10-14T20:40:00.210535",
     "status": "completed"
    },
    "tags": []
   },
   "outputs": [],
   "source": [
    "early_stopping_monitor = EarlyStopping(\n",
    "    monitor='val_loss',\n",
    "    patience=10,\n",
    "    verbose=0,\n",
    "    mode='auto',\n",
    "    restore_best_weights=True\n",
    ")\n",
    "# callback=ModelCheckpoint('best_model.h5',monitor='val_loss',save_best_only=True,verbose=1,mode='auto')"
   ]
  },
  {
   "cell_type": "code",
   "execution_count": 11,
   "metadata": {
    "execution": {
     "iopub.execute_input": "2020-10-14T20:40:00.282573Z",
     "iopub.status.busy": "2020-10-14T20:40:00.281577Z",
     "iopub.status.idle": "2020-10-14T20:41:39.197413Z",
     "shell.execute_reply": "2020-10-14T20:41:39.196786Z"
    },
    "papermill": {
     "duration": 98.940952,
     "end_time": "2020-10-14T20:41:39.197548",
     "exception": false,
     "start_time": "2020-10-14T20:40:00.256596",
     "status": "completed"
    },
    "tags": []
   },
   "outputs": [
    {
     "name": "stdout",
     "output_type": "stream",
     "text": [
      "Epoch 1/100\n",
      "840/840 [==============================] - 6s 7ms/step - loss: 0.1417 - accuracy: 0.9565 - val_loss: 0.0839 - val_accuracy: 0.9740\n",
      "Epoch 2/100\n",
      "840/840 [==============================] - 6s 7ms/step - loss: 0.0678 - accuracy: 0.9796 - val_loss: 0.0548 - val_accuracy: 0.9836\n",
      "Epoch 3/100\n",
      "840/840 [==============================] - 6s 7ms/step - loss: 0.0512 - accuracy: 0.9826 - val_loss: 0.0495 - val_accuracy: 0.9866\n",
      "Epoch 4/100\n",
      "840/840 [==============================] - 6s 7ms/step - loss: 0.0414 - accuracy: 0.9864 - val_loss: 0.0599 - val_accuracy: 0.9824\n",
      "Epoch 5/100\n",
      "840/840 [==============================] - 5s 6ms/step - loss: 0.0377 - accuracy: 0.9875 - val_loss: 0.0497 - val_accuracy: 0.9863\n",
      "Epoch 6/100\n",
      "840/840 [==============================] - 5s 6ms/step - loss: 0.0320 - accuracy: 0.9895 - val_loss: 0.0565 - val_accuracy: 0.9842\n",
      "Epoch 7/100\n",
      "840/840 [==============================] - 6s 7ms/step - loss: 0.0265 - accuracy: 0.9909 - val_loss: 0.0469 - val_accuracy: 0.9863\n",
      "Epoch 8/100\n",
      "840/840 [==============================] - 5s 6ms/step - loss: 0.0275 - accuracy: 0.9908 - val_loss: 0.0473 - val_accuracy: 0.9878\n",
      "Epoch 9/100\n",
      "840/840 [==============================] - 5s 6ms/step - loss: 0.0203 - accuracy: 0.9931 - val_loss: 0.0476 - val_accuracy: 0.9878\n",
      "Epoch 10/100\n",
      "840/840 [==============================] - 5s 6ms/step - loss: 0.0203 - accuracy: 0.9932 - val_loss: 0.0485 - val_accuracy: 0.9890\n",
      "Epoch 11/100\n",
      "840/840 [==============================] - 5s 6ms/step - loss: 0.0166 - accuracy: 0.9947 - val_loss: 0.0968 - val_accuracy: 0.9784\n",
      "Epoch 12/100\n",
      "840/840 [==============================] - 5s 7ms/step - loss: 0.0138 - accuracy: 0.9951 - val_loss: 0.0544 - val_accuracy: 0.9882\n",
      "Epoch 13/100\n",
      "840/840 [==============================] - 6s 7ms/step - loss: 0.0200 - accuracy: 0.9935 - val_loss: 0.0515 - val_accuracy: 0.9882\n",
      "Epoch 14/100\n",
      "840/840 [==============================] - 6s 7ms/step - loss: 0.0142 - accuracy: 0.9949 - val_loss: 0.0507 - val_accuracy: 0.9893\n",
      "Epoch 15/100\n",
      "840/840 [==============================] - 6s 7ms/step - loss: 0.0104 - accuracy: 0.9964 - val_loss: 0.0595 - val_accuracy: 0.9882\n",
      "Epoch 16/100\n",
      "840/840 [==============================] - 6s 7ms/step - loss: 0.0120 - accuracy: 0.9960 - val_loss: 0.0537 - val_accuracy: 0.9874\n",
      "Epoch 17/100\n",
      "840/840 [==============================] - 5s 6ms/step - loss: 0.0082 - accuracy: 0.9972 - val_loss: 0.0544 - val_accuracy: 0.9896\n"
     ]
    }
   ],
   "source": [
    "history = model.fit(X_train, y_train, epochs=100, batch_size=32, validation_split=0.2, callbacks=[early_stopping_monitor])"
   ]
  },
  {
   "cell_type": "code",
   "execution_count": 12,
   "metadata": {
    "execution": {
     "iopub.execute_input": "2020-10-14T20:41:40.564011Z",
     "iopub.status.busy": "2020-10-14T20:41:40.562761Z",
     "iopub.status.idle": "2020-10-14T20:41:40.782449Z",
     "shell.execute_reply": "2020-10-14T20:41:40.783096Z"
    },
    "papermill": {
     "duration": 0.909981,
     "end_time": "2020-10-14T20:41:40.783256",
     "exception": false,
     "start_time": "2020-10-14T20:41:39.873275",
     "status": "completed"
    },
    "tags": []
   },
   "outputs": [
    {
     "data": {
      "image/png": "[encoded data removed]",
      "text/plain": [
       "<Figure size 432x288 with 1 Axes>"
      ]
     },
     "metadata": {
      "needs_background": "light"
     },
     "output_type": "display_data"
    }
   ],
   "source": [
    "import matplotlib.pyplot as plt\n",
    "res=history.history\n",
    "\n",
    "plt.plot(res['accuracy'],label=\"accuracy\")\n",
    "plt.plot(res['val_accuracy'],label=\"val acc\")\n",
    "plt.plot(res['loss'],label='loss')\n",
    "plt.plot(res['val_loss'],label='val loss')\n",
    "plt.legend()\n",
    "plt.show()"
   ]
  },
  {
   "cell_type": "code",
   "execution_count": 13,
   "metadata": {
    "execution": {
     "iopub.execute_input": "2020-10-14T20:41:42.458023Z",
     "iopub.status.busy": "2020-10-14T20:41:42.456902Z",
     "iopub.status.idle": "2020-10-14T20:41:44.908406Z",
     "shell.execute_reply": "2020-10-14T20:41:44.907249Z"
    },
    "papermill": {
     "duration": 3.140144,
     "end_time": "2020-10-14T20:41:44.908551",
     "exception": false,
     "start_time": "2020-10-14T20:41:41.768407",
     "status": "completed"
    },
    "tags": []
   },
   "outputs": [],
   "source": [
    "test=pd.read_csv('../input/digit-recognizer/test.csv').values/255.0\n",
    "test=test.reshape(-1,28,28,1)"
   ]
  },
  {
   "cell_type": "code",
   "execution_count": 14,
   "metadata": {
    "execution": {
     "iopub.execute_input": "2020-10-14T20:41:46.329357Z",
     "iopub.status.busy": "2020-10-14T20:41:46.327970Z",
     "iopub.status.idle": "2020-10-14T20:41:47.799566Z",
     "shell.execute_reply": "2020-10-14T20:41:47.798727Z"
    },
    "papermill": {
     "duration": 2.209226,
     "end_time": "2020-10-14T20:41:47.799727",
     "exception": false,
     "start_time": "2020-10-14T20:41:45.590501",
     "status": "completed"
    },
    "tags": []
   },
   "outputs": [
    {
     "name": "stdout",
     "output_type": "stream",
     "text": [
      "263/263 [==============================] - 1s 5ms/step - loss: 0.0349 - accuracy: 0.9890\n"
     ]
    },
    {
     "data": {
      "text/plain": [
       "[0.03493909165263176, 0.989047646522522]"
      ]
     },
     "execution_count": 14,
     "metadata": {},
     "output_type": "execute_result"
    }
   ],
   "source": [
    "model.evaluate(X_test,y_test)"
   ]
  },
  {
   "cell_type": "code",
   "execution_count": 15,
   "metadata": {
    "execution": {
     "iopub.execute_input": "2020-10-14T20:41:49.216851Z",
     "iopub.status.busy": "2020-10-14T20:41:49.215709Z",
     "iopub.status.idle": "2020-10-14T20:41:50.545452Z",
     "shell.execute_reply": "2020-10-14T20:41:50.544801Z"
    },
    "papermill": {
     "duration": 2.03282,
     "end_time": "2020-10-14T20:41:50.545590",
     "exception": false,
     "start_time": "2020-10-14T20:41:48.512770",
     "status": "completed"
    },
    "tags": []
   },
   "outputs": [],
   "source": [
    "pred=model.predict(test)"
   ]
  },
  {
   "cell_type": "code",
   "execution_count": 16,
   "metadata": {
    "execution": {
     "iopub.execute_input": "2020-10-14T20:41:51.993861Z",
     "iopub.status.busy": "2020-10-14T20:41:51.992745Z",
     "iopub.status.idle": "2020-10-14T20:41:52.059944Z",
     "shell.execute_reply": "2020-10-14T20:41:52.059065Z"
    },
    "papermill": {
     "duration": 0.822828,
     "end_time": "2020-10-14T20:41:52.060129",
     "exception": false,
     "start_time": "2020-10-14T20:41:51.237301",
     "status": "completed"
    },
    "tags": []
   },
   "outputs": [],
   "source": [
    "new_pred=[]\n",
    "for i in pred:\n",
    "    new_pred.append(i.argmax())"
   ]
  },
  {
   "cell_type": "code",
   "execution_count": 17,
   "metadata": {
    "execution": {
     "iopub.execute_input": "2020-10-14T20:41:53.635362Z",
     "iopub.status.busy": "2020-10-14T20:41:53.633830Z",
     "iopub.status.idle": "2020-10-14T20:41:53.665785Z",
     "shell.execute_reply": "2020-10-14T20:41:53.665146Z"
    },
    "papermill": {
     "duration": 0.739332,
     "end_time": "2020-10-14T20:41:53.665917",
     "exception": false,
     "start_time": "2020-10-14T20:41:52.926585",
     "status": "completed"
    },
    "tags": []
   },
   "outputs": [],
   "source": [
    "submit=pd.read_csv('../input/digit-recognizer/sample_submission.csv')\n",
    "submit['Label']=new_pred"
   ]
  },
  {
   "cell_type": "code",
   "execution_count": 18,
   "metadata": {
    "execution": {
     "iopub.execute_input": "2020-10-14T20:41:55.056205Z",
     "iopub.status.busy": "2020-10-14T20:41:55.055186Z",
     "iopub.status.idle": "2020-10-14T20:41:55.334053Z",
     "shell.execute_reply": "2020-10-14T20:41:55.333383Z"
    },
    "papermill": {
     "duration": 0.974684,
     "end_time": "2020-10-14T20:41:55.334199",
     "exception": false,
     "start_time": "2020-10-14T20:41:54.359515",
     "status": "completed"
    },
    "tags": []
   },
   "outputs": [],
   "source": [
    "submit.to_csv('submissions1.csv',index=False)"
   ]
  }
 ],
 "metadata": {
  "kernelspec": {
   "display_name": "Python 3",
   "language": "python",
   "name": "python3"
  },
  "language_info": {
   "codemirror_mode": {
    "name": "ipython",
    "version": 3
   },
   "file_extension": ".py",
   "mimetype": "text/x-python",
   "name": "python",
   "nbconvert_exporter": "python",
   "pygments_lexer": "ipython3",
   "version": "3.8.3"
  },
  "papermill": {
   "duration": 135.911382,
   "end_time": "2020-10-14T20:41:57.980689",
   "environment_variables": {},
   "exception": null,
   "input_path": "__notebook__.ipynb",
   "output_path": "__notebook__.ipynb",
   "parameters": {},
   "start_time": "2020-10-14T20:39:42.069307",
   "version": "2.1.0"
  }
 },
 "nbformat": 4,
 "nbformat_minor": 4
}
